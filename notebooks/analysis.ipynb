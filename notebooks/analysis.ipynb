{
 "cells": [
  {
   "cell_type": "markdown",
   "metadata": {},
   "source": [
    "Loading and inspecting your merged dataset in a notebook"
   ]
  },
  {
   "cell_type": "code",
   "execution_count": 2,
   "metadata": {},
   "outputs": [
    {
     "data": {
      "text/plain": [
       "((106, 59),\n",
       "        mfcc_1      mfcc_2     mfcc_3     mfcc_4     mfcc_5     mfcc_6  \\\n",
       " 0 -290.891022  103.323196  31.521793  18.506334   8.285328 -11.996548   \n",
       " 1 -298.124878   92.796242  11.258208  10.074308 -14.415175   2.253958   \n",
       " 2 -290.150909  122.682289   6.487182  22.660751   6.432351  -4.673965   \n",
       " 3 -199.215439  106.744370  -7.775826  19.734545  -4.810340   0.715076   \n",
       " 4 -471.459930  133.304123  37.536320  25.147472   9.098192   6.168714   \n",
       " \n",
       "       mfcc_7    mfcc_8    mfcc_9   mfcc_10  ...  avg_pause_duration  \\\n",
       " 0 -14.400554  2.999785 -7.950426  1.604990  ...            0.211765   \n",
       " 1 -15.372137 -5.864001 -8.123696 -0.934609  ...            0.248276   \n",
       " 2 -10.450406 -2.382061 -7.630840  1.725994  ...            0.198750   \n",
       " 3 -14.807957 -7.878012 -6.074315 -6.830226  ...            0.312000   \n",
       " 4  -0.547621  0.443585 -1.474732  1.742596  ...            0.332449   \n",
       " \n",
       "    max_pause_duration  stammer_count  repeated_words  forgetfulness  \\\n",
       " 0                1.56              0              47             13   \n",
       " 1                0.72              0              27              6   \n",
       " 2                0.60              0              58             15   \n",
       " 3                1.17              0              12              0   \n",
       " 4                2.52              1              15              5   \n",
       " \n",
       "    sentence_complexity  mean_pitch  mean_intensity  speech_rate  \\\n",
       " 0            25.566667  132.872202       60.695523     2.773879   \n",
       " 1            22.144444  132.474923       57.880432     1.980284   \n",
       " 2            33.566667  137.204621       61.215177     3.166254   \n",
       " 3            25.700000  138.550730       67.108101     2.323397   \n",
       " 4             9.275000  112.010799       47.946129     1.527144   \n",
       " \n",
       "    articulation_rate  \n",
       " 0           3.086822  \n",
       " 1           2.291441  \n",
       " 2           3.439673  \n",
       " 3           2.694229  \n",
       " 4           2.788349  \n",
       " \n",
       " [5 rows x 59 columns])"
      ]
     },
     "execution_count": 2,
     "metadata": {},
     "output_type": "execute_result"
    }
   ],
   "source": [
    "import pandas as pd\n",
    "\n",
    "# Load the merged features CSV\n",
    "df = pd.read_csv('merged_features.csv')\n",
    "\n",
    "# Show the shape and first few rows\n",
    "df.shape, df.head()"
   ]
  },
  {
   "cell_type": "code",
   "execution_count": 4,
   "metadata": {},
   "outputs": [
    {
     "data": {
      "text/plain": [
       "mfcc_1                 0\n",
       "mfcc_2                 0\n",
       "mfcc_3                 0\n",
       "mfcc_4                 0\n",
       "mfcc_5                 0\n",
       "mfcc_6                 0\n",
       "mfcc_7                 0\n",
       "mfcc_8                 0\n",
       "mfcc_9                 0\n",
       "mfcc_10                0\n",
       "mfcc_11                0\n",
       "mfcc_12                0\n",
       "mfcc_13                0\n",
       "delta_mfcc_1           0\n",
       "delta_mfcc_2           0\n",
       "delta_mfcc_3           0\n",
       "delta_mfcc_4           0\n",
       "delta_mfcc_5           0\n",
       "delta_mfcc_6           0\n",
       "delta_mfcc_7           0\n",
       "delta_mfcc_8           0\n",
       "delta_mfcc_9           0\n",
       "delta_mfcc_10          0\n",
       "delta_mfcc_11          0\n",
       "delta_mfcc_12          0\n",
       "delta_mfcc_13          0\n",
       "chroma_1               0\n",
       "chroma_2               0\n",
       "chroma_3               0\n",
       "chroma_4               0\n",
       "chroma_5               0\n",
       "chroma_6               0\n",
       "chroma_7               0\n",
       "chroma_8               0\n",
       "chroma_9               0\n",
       "chroma_10              0\n",
       "chroma_11              0\n",
       "chroma_12              0\n",
       "contrast_1             0\n",
       "contrast_2             0\n",
       "contrast_3             0\n",
       "contrast_4             0\n",
       "contrast_5             0\n",
       "contrast_6             0\n",
       "contrast_7             0\n",
       "zcr                    0\n",
       "file                   0\n",
       "label                  0\n",
       "pause_count            0\n",
       "avg_pause_duration     0\n",
       "max_pause_duration     0\n",
       "stammer_count          0\n",
       "repeated_words         0\n",
       "forgetfulness          0\n",
       "sentence_complexity    0\n",
       "mean_pitch             0\n",
       "mean_intensity         0\n",
       "speech_rate            0\n",
       "articulation_rate      0\n",
       "dtype: int64"
      ]
     },
     "execution_count": 4,
     "metadata": {},
     "output_type": "execute_result"
    }
   ],
   "source": [
    "# Check for missing values\n",
    "df.isnull().sum()\n"
   ]
  },
  {
   "cell_type": "code",
   "execution_count": 5,
   "metadata": {},
   "outputs": [
    {
     "data": {
      "text/plain": [
       "mfcc_1                 float64\n",
       "mfcc_2                 float64\n",
       "mfcc_3                 float64\n",
       "mfcc_4                 float64\n",
       "mfcc_5                 float64\n",
       "mfcc_6                 float64\n",
       "mfcc_7                 float64\n",
       "mfcc_8                 float64\n",
       "mfcc_9                 float64\n",
       "mfcc_10                float64\n",
       "mfcc_11                float64\n",
       "mfcc_12                float64\n",
       "mfcc_13                float64\n",
       "delta_mfcc_1           float64\n",
       "delta_mfcc_2           float64\n",
       "delta_mfcc_3           float64\n",
       "delta_mfcc_4           float64\n",
       "delta_mfcc_5           float64\n",
       "delta_mfcc_6           float64\n",
       "delta_mfcc_7           float64\n",
       "delta_mfcc_8           float64\n",
       "delta_mfcc_9           float64\n",
       "delta_mfcc_10          float64\n",
       "delta_mfcc_11          float64\n",
       "delta_mfcc_12          float64\n",
       "delta_mfcc_13          float64\n",
       "chroma_1               float64\n",
       "chroma_2               float64\n",
       "chroma_3               float64\n",
       "chroma_4               float64\n",
       "chroma_5               float64\n",
       "chroma_6               float64\n",
       "chroma_7               float64\n",
       "chroma_8               float64\n",
       "chroma_9               float64\n",
       "chroma_10              float64\n",
       "chroma_11              float64\n",
       "chroma_12              float64\n",
       "contrast_1             float64\n",
       "contrast_2             float64\n",
       "contrast_3             float64\n",
       "contrast_4             float64\n",
       "contrast_5             float64\n",
       "contrast_6             float64\n",
       "contrast_7             float64\n",
       "zcr                    float64\n",
       "file                    object\n",
       "label                   object\n",
       "pause_count              int64\n",
       "avg_pause_duration     float64\n",
       "max_pause_duration     float64\n",
       "stammer_count            int64\n",
       "repeated_words           int64\n",
       "forgetfulness            int64\n",
       "sentence_complexity    float64\n",
       "mean_pitch             float64\n",
       "mean_intensity         float64\n",
       "speech_rate            float64\n",
       "articulation_rate      float64\n",
       "dtype: object"
      ]
     },
     "execution_count": 5,
     "metadata": {},
     "output_type": "execute_result"
    }
   ],
   "source": [
    "# Check data types\n",
    "df.dtypes"
   ]
  },
  {
   "cell_type": "code",
   "execution_count": 6,
   "metadata": {},
   "outputs": [
    {
     "data": {
      "image/png": "[encoded data removed]",
      "text/plain": [
       "<Figure size 640x480 with 1 Axes>"
      ]
     },
     "metadata": {},
     "output_type": "display_data"
    }
   ],
   "source": [
    "import matplotlib.pyplot as plt\n",
    "\n",
    "df['label'].value_counts().plot(kind='bar')\n",
    "plt.title('Class Distribution')\n",
    "plt.xlabel('Label')\n",
    "plt.ylabel('Count')\n",
    "plt.show()"
   ]
  },
  {
   "cell_type": "markdown",
   "metadata": {},
   "source": [
    "Split features and labels"
   ]
  },
  {
   "cell_type": "code",
   "execution_count": 7,
   "metadata": {},
   "outputs": [],
   "source": [
    "# Exclude 'file' column from features\n",
    "X = df.drop(['file', 'label'], axis=1)\n",
    "y = df['label']"
   ]
  },
  {
   "cell_type": "code",
   "execution_count": 8,
   "metadata": {},
   "outputs": [],
   "source": [
    "from sklearn.model_selection import train_test_split\n",
    "\n",
    "X_train, X_test, y_train, y_test = train_test_split(X, y, test_size=0.2, random_state=42, stratify=y)"
   ]
  },
  {
   "cell_type": "code",
   "execution_count": 9,
   "metadata": {},
   "outputs": [],
   "source": [
    "from sklearn.preprocessing import StandardScaler\n",
    "\n",
    "scaler = StandardScaler()\n",
    "X_train_scaled = scaler.fit_transform(X_train)\n",
    "X_test_scaled = scaler.transform(X_test)"
   ]
  },
  {
   "cell_type": "markdown",
   "metadata": {},
   "source": [
    "Model Training and Evaluation"
   ]
  },
  {
   "cell_type": "code",
   "execution_count": 10,
   "metadata": {},
   "outputs": [
    {
     "name": "stdout",
     "output_type": "stream",
     "text": [
      "Accuracy: 0.6818181818181818\n",
      "\n",
      "Classification Report:\n",
      "               precision    recall  f1-score   support\n",
      "\n",
      "  alzehiemer       0.64      0.82      0.72        11\n",
      "      normal       0.75      0.55      0.63        11\n",
      "\n",
      "    accuracy                           0.68        22\n",
      "   macro avg       0.70      0.68      0.68        22\n",
      "weighted avg       0.70      0.68      0.68        22\n",
      "\n",
      "\n",
      "Confusion Matrix:\n",
      " [[9 2]\n",
      " [5 6]]\n"
     ]
    }
   ],
   "source": [
    "from sklearn.ensemble import RandomForestClassifier\n",
    "from sklearn.metrics import classification_report, confusion_matrix, accuracy_score\n",
    "\n",
    "# Train the model\n",
    "clf = RandomForestClassifier(random_state=42)\n",
    "clf.fit(X_train_scaled, y_train)\n",
    "\n",
    "# Predict on the test set\n",
    "y_pred = clf.predict(X_test_scaled)\n",
    "\n",
    "# Evaluate the model\n",
    "print(\"Accuracy:\", accuracy_score(y_test, y_pred))\n",
    "print(\"\\nClassification Report:\\n\", classification_report(y_test, y_pred))\n",
    "print(\"\\nConfusion Matrix:\\n\", confusion_matrix(y_test, y_pred))"
   ]
  },
  {
   "cell_type": "markdown",
   "metadata": {},
   "source": [
    "Feature Importance"
   ]
  },
  {
   "cell_type": "code",
   "execution_count": 11,
   "metadata": {},
   "outputs": [
    {
     "data": {
      "image/png": "[encoded data removed]",
      "text/plain": [
       "<Figure size 1000x600 with 1 Axes>"
      ]
     },
     "metadata": {},
     "output_type": "display_data"
    }
   ],
   "source": [
    "import pandas as pd\n",
    "import matplotlib.pyplot as plt\n",
    "\n",
    "# Get feature importances\n",
    "importances = clf.feature_importances_\n",
    "feature_names = X.columns\n",
    "\n",
    "# Create a DataFrame for visualization\n",
    "feat_imp_df = pd.DataFrame({'feature': feature_names, 'importance': importances})\n",
    "feat_imp_df = feat_imp_df.sort_values(by='importance', ascending=False)\n",
    "\n",
    "# Plot the top 15 features\n",
    "plt.figure(figsize=(10,6))\n",
    "plt.barh(feat_imp_df['feature'][:15][::-1], feat_imp_df['importance'][:15][::-1])\n",
    "plt.xlabel('Importance')\n",
    "plt.title('Top 15 Feature Importances (Random Forest)')\n",
    "plt.tight_layout()\n",
    "plt.show()"
   ]
  },
  {
   "cell_type": "markdown",
   "metadata": {},
   "source": [
    "model with hyperparameter tuning using GridSearchCV"
   ]
  },
  {
   "cell_type": "code",
   "execution_count": 31,
   "metadata": {},
   "outputs": [
    {
     "name": "stdout",
     "output_type": "stream",
     "text": [
      "Best parameters: {'max_depth': None, 'min_samples_leaf': 1, 'min_samples_split': 5, 'n_estimators': 200}\n",
      "Best cross-validation accuracy: 0.6301470588235294\n",
      "Test set accuracy: 0.7727272727272727\n",
      "\n",
      "Classification Report:\n",
      "               precision    recall  f1-score   support\n",
      "\n",
      "  alzehiemer       0.71      0.91      0.80        11\n",
      "      normal       0.88      0.64      0.74        11\n",
      "\n",
      "    accuracy                           0.77        22\n",
      "   macro avg       0.79      0.77      0.77        22\n",
      "weighted avg       0.79      0.77      0.77        22\n",
      "\n"
     ]
    }
   ],
   "source": [
    "from sklearn.model_selection import GridSearchCV\n",
    "\n",
    "# Define parameter grid\n",
    "grid = {\n",
    "    'n_estimators': [50, 100, 200],\n",
    "    'max_depth': [None, 5, 10, 20],\n",
    "    'min_samples_split': [2, 5, 10],\n",
    "    'min_samples_leaf': [1, 2, 4]\n",
    "}\n",
    "\n",
    "rf = RandomForestClassifier(random_state=42)\n",
    "gs = GridSearchCV(rf, grid, cv=5, scoring='accuracy', n_jobs=-1)\n",
    "gs.fit(X_train_scaled, y_train)\n",
    "\n",
    "print(\"Best parameters:\", gs.best_params_)\n",
    "print(\"Best cross-validation accuracy:\", gs.best_score_)\n",
    "\n",
    "# Evaluate on test set\n",
    "y_pred_gs = gs.predict(X_test_scaled)\n",
    "print(\"Test set accuracy:\", accuracy_score(y_test, y_pred_gs))\n",
    "print(\"\\nClassification Report:\\n\", classification_report(y_test, y_pred_gs))"
   ]
  },
  {
   "cell_type": "markdown",
   "metadata": {},
   "source": [
    "Save the model"
   ]
  },
  {
   "cell_type": "code",
   "execution_count": 34,
   "metadata": {},
   "outputs": [
    {
     "data": {
      "text/plain": [
       "['..\\\\models/alzheimers_model.joblib']"
      ]
     },
     "execution_count": 34,
     "metadata": {},
     "output_type": "execute_result"
    }
   ],
   "source": [
    "import joblib\n",
    "\n",
    "# Save the model to a file\n",
    "joblib.dump(gs.best_estimator_, '..\\models/alzheimers_model.joblib')"
   ]
  },
  {
   "cell_type": "markdown",
   "metadata": {},
   "source": [
    "XGBoost"
   ]
  },
  {
   "cell_type": "code",
   "execution_count": 17,
   "metadata": {},
   "outputs": [
    {
     "name": "stdout",
     "output_type": "stream",
     "text": [
      "Test set accuracy: 0.6818181818181818\n",
      "\n",
      "Classification Report:\n",
      "               precision    recall  f1-score   support\n",
      "\n",
      "  alzehiemer       0.67      0.73      0.70        11\n",
      "      normal       0.70      0.64      0.67        11\n",
      "\n",
      "    accuracy                           0.68        22\n",
      "   macro avg       0.68      0.68      0.68        22\n",
      "weighted avg       0.68      0.68      0.68        22\n",
      "\n"
     ]
    }
   ],
   "source": [
    "from xgboost import XGBClassifier\n",
    "from sklearn.model_selection import GridSearchCV\n",
    "from sklearn.preprocessing import LabelEncoder\n",
    "\n",
    "le = LabelEncoder()\n",
    "y_train_encoded = le.fit_transform(y_train)\n",
    "y_test_encoded = le.transform(y_test)\n",
    "\n",
    "xgb = XGBClassifier(eval_metric='logloss', random_state=42)\n",
    "param_grid = {\n",
    "    'n_estimators': [50, 100, 200],\n",
    "    'max_depth': [3, 5, 7],\n",
    "    'learning_rate': [0.01, 0.1, 0.2],\n",
    "    'subsample': [0.8, 1.0],\n",
    "    'colsample_bytree': [0.8, 1.0]\n",
    "}\n",
    "gs_xgb = GridSearchCV(xgb, param_grid, cv=5, scoring='accuracy', n_jobs=-1)\n",
    "gs_xgb.fit(X_train_scaled, y_train_encoded)\n",
    "\n",
    "# Evaluate on test set\n",
    "y_pred_xgb = gs_xgb.predict(X_test_scaled)\n",
    "print(\"Test set accuracy:\", accuracy_score(y_test_encoded, y_pred_xgb))\n",
    "print(\"\\nClassification Report:\\n\", classification_report(y_test_encoded, y_pred_xgb, target_names=le.classes_))"
   ]
  },
  {
   "cell_type": "markdown",
   "metadata": {},
   "source": [
    "PCA"
   ]
  },
  {
   "cell_type": "code",
   "execution_count": 20,
   "metadata": {},
   "outputs": [
    {
     "name": "stdout",
     "output_type": "stream",
     "text": [
      "Test set accuracy with PCA: 0.5454545454545454\n",
      "\n",
      "Classification Report (PCA):\n",
      "               precision    recall  f1-score   support\n",
      "\n",
      "           0       0.54      0.64      0.58        11\n",
      "           1       0.56      0.45      0.50        11\n",
      "\n",
      "    accuracy                           0.55        22\n",
      "   macro avg       0.55      0.55      0.54        22\n",
      "weighted avg       0.55      0.55      0.54        22\n",
      "\n"
     ]
    }
   ],
   "source": [
    "from sklearn.decomposition import PCA\n",
    "\n",
    "# Reduce to 10 principal components (adjust as needed)\n",
    "pca = PCA(n_components=10, random_state=42)\n",
    "X_train_pca = pca.fit_transform(X_train_scaled)\n",
    "X_test_pca = pca.transform(X_test_scaled)\n",
    "\n",
    "le = LabelEncoder()\n",
    "y_train_encoded = le.fit_transform(y_train)\n",
    "y_test_encoded = le.transform(y_test)\n",
    "\n",
    "# Retrain XGBoost on PCA features\n",
    "xgb_pca = XGBClassifier(**gs_xgb.best_params_, eval_metric='logloss', random_state=42)\n",
    "xgb_pca.fit(X_train_pca, y_train_encoded)\n",
    "y_pred_pca = xgb_pca.predict(X_test_pca)\n",
    "print(\"Test set accuracy with PCA:\", accuracy_score(y_test_encoded, y_pred_pca))\n",
    "print(\"\\nClassification Report (PCA):\\n\", classification_report(y_test_encoded, y_pred_pca))"
   ]
  },
  {
   "cell_type": "markdown",
   "metadata": {},
   "source": [
    "SVM"
   ]
  },
  {
   "cell_type": "code",
   "execution_count": 21,
   "metadata": {},
   "outputs": [
    {
     "name": "stdout",
     "output_type": "stream",
     "text": [
      "Best SVM parameters: {'C': 10, 'gamma': 'scale', 'kernel': 'poly'}\n",
      "Best cross-validation accuracy: 0.5691176470588235\n",
      "Test set accuracy: 0.6818181818181818\n",
      "\n",
      "Classification Report:\n",
      "               precision    recall  f1-score   support\n",
      "\n",
      "  alzehiemer       1.00      0.36      0.53        11\n",
      "      normal       0.61      1.00      0.76        11\n",
      "\n",
      "    accuracy                           0.68        22\n",
      "   macro avg       0.81      0.68      0.65        22\n",
      "weighted avg       0.81      0.68      0.65        22\n",
      "\n"
     ]
    }
   ],
   "source": [
    "from sklearn.svm import SVC\n",
    "from sklearn.model_selection import GridSearchCV\n",
    "\n",
    "param_grid = {\n",
    "    'C': [0.1, 1, 10, 100],\n",
    "    'kernel': ['linear', 'rbf', 'poly'],\n",
    "    'gamma': ['scale', 'auto']\n",
    "}\n",
    "\n",
    "svm = SVC(probability=True, random_state=42)\n",
    "gs_svm = GridSearchCV(svm, param_grid, cv=5, scoring='accuracy', n_jobs=-1)\n",
    "gs_svm.fit(X_train_scaled, y_train_encoded)\n",
    "\n",
    "print(\"Best SVM parameters:\", gs_svm.best_params_)\n",
    "print(\"Best cross-validation accuracy:\", gs_svm.best_score_)\n",
    "\n",
    "# Evaluate on test set\n",
    "y_pred_svm = gs_svm.predict(X_test_scaled)\n",
    "print(\"Test set accuracy:\", accuracy_score(y_test_encoded, y_pred_svm))\n",
    "print(\"\\nClassification Report:\\n\", classification_report(y_test_encoded, y_pred_svm, target_names=le.classes_))"
   ]
  },
  {
   "cell_type": "code",
   "execution_count": null,
   "metadata": {},
   "outputs": [],
   "source": []
  },
  {
   "cell_type": "markdown",
   "metadata": {},
   "source": [
    "MLP"
   ]
  },
  {
   "cell_type": "code",
   "execution_count": 29,
   "metadata": {},
   "outputs": [
    {
     "name": "stdout",
     "output_type": "stream",
     "text": [
      "Epoch 1/100\n",
      "WARNING:tensorflow:5 out of the last 13 calls to <function Model.make_train_function.<locals>.train_function at 0x0000019831C93D90> triggered tf.function retracing. Tracing is expensive and the excessive number of tracings could be due to (1) creating @tf.function repeatedly in a loop, (2) passing tensors with different shapes, (3) passing Python objects instead of tensors. For (1), please define your @tf.function outside of the loop. For (2), @tf.function has reduce_retracing=True option that can avoid unnecessary retracing. For (3), please refer to https://www.tensorflow.org/guide/function#controlling_retracing and https://www.tensorflow.org/api_docs/python/tf/function for  more details.\n",
      "3/3 [==============================] - 4s 186ms/step - loss: 0.8544 - accuracy: 0.5595 - val_loss: 5.9874 - val_accuracy: 0.5000\n",
      "Epoch 2/100\n",
      "3/3 [==============================] - 0s 30ms/step - loss: 0.8060 - accuracy: 0.5476 - val_loss: 3.9780 - val_accuracy: 0.5000\n",
      "Epoch 3/100\n",
      "3/3 [==============================] - 0s 32ms/step - loss: 0.7828 - accuracy: 0.4762 - val_loss: 3.1186 - val_accuracy: 0.5000\n",
      "Epoch 4/100\n",
      "3/3 [==============================] - 0s 36ms/step - loss: 0.6588 - accuracy: 0.6071 - val_loss: 2.4348 - val_accuracy: 0.5000\n",
      "Epoch 5/100\n",
      "3/3 [==============================] - 0s 33ms/step - loss: 0.6955 - accuracy: 0.6071 - val_loss: 1.7955 - val_accuracy: 0.5455\n",
      "Epoch 6/100\n",
      "3/3 [==============================] - 0s 33ms/step - loss: 0.6619 - accuracy: 0.5952 - val_loss: 1.2569 - val_accuracy: 0.5455\n",
      "Epoch 7/100\n",
      "3/3 [==============================] - 0s 42ms/step - loss: 0.5584 - accuracy: 0.7024 - val_loss: 1.0793 - val_accuracy: 0.5909\n",
      "Epoch 8/100\n",
      "3/3 [==============================] - 0s 47ms/step - loss: 0.7100 - accuracy: 0.5833 - val_loss: 0.8964 - val_accuracy: 0.5909\n",
      "Epoch 9/100\n",
      "3/3 [==============================] - 0s 39ms/step - loss: 0.6699 - accuracy: 0.6190 - val_loss: 0.7967 - val_accuracy: 0.5909\n",
      "Epoch 10/100\n",
      "3/3 [==============================] - 0s 81ms/step - loss: 0.5532 - accuracy: 0.7143 - val_loss: 0.7837 - val_accuracy: 0.5909\n",
      "Epoch 11/100\n",
      "3/3 [==============================] - 0s 58ms/step - loss: 0.6115 - accuracy: 0.6905 - val_loss: 0.8400 - val_accuracy: 0.5909\n",
      "Epoch 12/100\n",
      "3/3 [==============================] - 0s 44ms/step - loss: 0.6827 - accuracy: 0.6667 - val_loss: 0.8750 - val_accuracy: 0.5909\n",
      "Epoch 13/100\n",
      "3/3 [==============================] - 0s 45ms/step - loss: 0.6261 - accuracy: 0.6786 - val_loss: 0.8081 - val_accuracy: 0.5909\n",
      "Epoch 14/100\n",
      "3/3 [==============================] - 0s 45ms/step - loss: 0.7389 - accuracy: 0.6548 - val_loss: 0.7303 - val_accuracy: 0.6364\n",
      "Epoch 15/100\n",
      "3/3 [==============================] - 0s 66ms/step - loss: 0.5791 - accuracy: 0.7024 - val_loss: 0.6682 - val_accuracy: 0.5909\n",
      "Epoch 16/100\n",
      "3/3 [==============================] - 0s 41ms/step - loss: 0.5852 - accuracy: 0.7024 - val_loss: 0.6447 - val_accuracy: 0.5909\n",
      "Epoch 17/100\n",
      "3/3 [==============================] - 0s 47ms/step - loss: 0.7204 - accuracy: 0.5714 - val_loss: 0.6038 - val_accuracy: 0.6364\n",
      "Epoch 18/100\n",
      "3/3 [==============================] - 0s 42ms/step - loss: 0.7109 - accuracy: 0.5595 - val_loss: 0.5765 - val_accuracy: 0.6364\n",
      "Epoch 19/100\n",
      "3/3 [==============================] - 0s 57ms/step - loss: 0.5164 - accuracy: 0.7381 - val_loss: 0.5699 - val_accuracy: 0.7273\n",
      "Epoch 20/100\n",
      "3/3 [==============================] - 0s 41ms/step - loss: 0.5893 - accuracy: 0.6786 - val_loss: 0.5589 - val_accuracy: 0.6818\n",
      "Epoch 21/100\n",
      "3/3 [==============================] - 0s 40ms/step - loss: 0.5466 - accuracy: 0.7024 - val_loss: 0.5513 - val_accuracy: 0.6818\n",
      "Epoch 22/100\n",
      "3/3 [==============================] - 0s 46ms/step - loss: 0.5023 - accuracy: 0.7143 - val_loss: 0.5499 - val_accuracy: 0.7273\n",
      "Epoch 23/100\n",
      "3/3 [==============================] - 0s 39ms/step - loss: 0.5736 - accuracy: 0.6905 - val_loss: 0.5532 - val_accuracy: 0.6818\n",
      "Epoch 24/100\n",
      "3/3 [==============================] - 0s 37ms/step - loss: 0.5434 - accuracy: 0.7024 - val_loss: 0.5638 - val_accuracy: 0.6818\n",
      "Epoch 25/100\n",
      "3/3 [==============================] - 0s 39ms/step - loss: 0.6317 - accuracy: 0.6667 - val_loss: 0.5645 - val_accuracy: 0.6364\n",
      "Epoch 26/100\n",
      "3/3 [==============================] - 0s 37ms/step - loss: 0.5765 - accuracy: 0.6429 - val_loss: 0.5696 - val_accuracy: 0.6818\n",
      "Epoch 27/100\n",
      "3/3 [==============================] - 0s 36ms/step - loss: 0.5867 - accuracy: 0.7143 - val_loss: 0.5775 - val_accuracy: 0.6818\n",
      "Epoch 28/100\n",
      "3/3 [==============================] - 0s 138ms/step - loss: 0.4959 - accuracy: 0.7500 - val_loss: 0.5848 - val_accuracy: 0.6364\n",
      "Epoch 29/100\n",
      "3/3 [==============================] - 0s 168ms/step - loss: 0.5527 - accuracy: 0.7381 - val_loss: 0.5911 - val_accuracy: 0.5909\n",
      "Epoch 30/100\n",
      "3/3 [==============================] - 0s 83ms/step - loss: 0.5230 - accuracy: 0.7619 - val_loss: 0.5992 - val_accuracy: 0.5909\n",
      "Epoch 31/100\n",
      "3/3 [==============================] - 0s 153ms/step - loss: 0.5373 - accuracy: 0.6905 - val_loss: 0.5846 - val_accuracy: 0.5909\n",
      "Epoch 32/100\n",
      "3/3 [==============================] - 0s 41ms/step - loss: 0.5148 - accuracy: 0.6786 - val_loss: 0.5624 - val_accuracy: 0.5455\n",
      "Epoch 33/100\n",
      "3/3 [==============================] - 0s 37ms/step - loss: 0.5463 - accuracy: 0.7976 - val_loss: 0.5591 - val_accuracy: 0.5455\n",
      "Epoch 34/100\n",
      "3/3 [==============================] - 0s 38ms/step - loss: 0.5677 - accuracy: 0.6786 - val_loss: 0.5593 - val_accuracy: 0.5000\n",
      "Epoch 35/100\n",
      "3/3 [==============================] - 0s 36ms/step - loss: 0.5422 - accuracy: 0.7262 - val_loss: 0.5732 - val_accuracy: 0.5000\n",
      "Epoch 36/100\n",
      "3/3 [==============================] - 0s 38ms/step - loss: 0.4958 - accuracy: 0.7619 - val_loss: 0.5808 - val_accuracy: 0.5000\n",
      "Epoch 37/100\n",
      "3/3 [==============================] - 0s 37ms/step - loss: 0.4722 - accuracy: 0.7262 - val_loss: 0.5901 - val_accuracy: 0.5000\n",
      "Epoch 38/100\n",
      "3/3 [==============================] - 0s 35ms/step - loss: 0.4887 - accuracy: 0.7500 - val_loss: 0.6007 - val_accuracy: 0.5455\n",
      "Epoch 39/100\n",
      "3/3 [==============================] - 0s 36ms/step - loss: 0.5417 - accuracy: 0.6548 - val_loss: 0.6032 - val_accuracy: 0.5455\n",
      "Epoch 40/100\n",
      "3/3 [==============================] - 0s 34ms/step - loss: 0.5652 - accuracy: 0.6786 - val_loss: 0.6056 - val_accuracy: 0.5455\n",
      "Epoch 41/100\n",
      "3/3 [==============================] - 0s 36ms/step - loss: 0.5270 - accuracy: 0.7024 - val_loss: 0.5939 - val_accuracy: 0.5909\n",
      "Epoch 42/100\n",
      "3/3 [==============================] - 0s 37ms/step - loss: 0.4847 - accuracy: 0.7738 - val_loss: 0.5933 - val_accuracy: 0.5909\n",
      "Epoch 43/100\n",
      "3/3 [==============================] - 0s 45ms/step - loss: 0.5359 - accuracy: 0.6786 - val_loss: 0.5726 - val_accuracy: 0.5909\n",
      "Epoch 44/100\n",
      "3/3 [==============================] - 0s 40ms/step - loss: 0.5228 - accuracy: 0.7381 - val_loss: 0.5807 - val_accuracy: 0.6364\n",
      "Epoch 45/100\n",
      "3/3 [==============================] - 0s 47ms/step - loss: 0.5314 - accuracy: 0.7262 - val_loss: 0.5570 - val_accuracy: 0.6364\n",
      "Epoch 46/100\n",
      "3/3 [==============================] - 0s 44ms/step - loss: 0.4861 - accuracy: 0.7738 - val_loss: 0.5334 - val_accuracy: 0.5455\n",
      "Epoch 47/100\n",
      "3/3 [==============================] - 0s 34ms/step - loss: 0.5037 - accuracy: 0.7619 - val_loss: 0.5235 - val_accuracy: 0.5909\n",
      "Epoch 48/100\n",
      "3/3 [==============================] - 0s 36ms/step - loss: 0.4593 - accuracy: 0.8214 - val_loss: 0.5227 - val_accuracy: 0.6364\n",
      "Epoch 49/100\n",
      "3/3 [==============================] - 0s 36ms/step - loss: 0.5385 - accuracy: 0.7143 - val_loss: 0.5267 - val_accuracy: 0.6818\n",
      "Epoch 50/100\n",
      "3/3 [==============================] - 0s 37ms/step - loss: 0.4540 - accuracy: 0.8095 - val_loss: 0.5370 - val_accuracy: 0.6818\n",
      "Epoch 51/100\n",
      "3/3 [==============================] - 0s 44ms/step - loss: 0.4773 - accuracy: 0.8690 - val_loss: 0.5465 - val_accuracy: 0.6818\n",
      "Epoch 52/100\n",
      "3/3 [==============================] - 0s 47ms/step - loss: 0.5165 - accuracy: 0.7262 - val_loss: 0.5606 - val_accuracy: 0.6818\n",
      "Epoch 53/100\n",
      "3/3 [==============================] - 0s 36ms/step - loss: 0.5116 - accuracy: 0.7500 - val_loss: 0.5715 - val_accuracy: 0.6818\n",
      "Epoch 54/100\n",
      "3/3 [==============================] - 0s 43ms/step - loss: 0.4659 - accuracy: 0.7619 - val_loss: 0.5929 - val_accuracy: 0.5909\n",
      "Epoch 55/100\n",
      "3/3 [==============================] - 0s 34ms/step - loss: 0.4155 - accuracy: 0.7976 - val_loss: 0.6122 - val_accuracy: 0.5909\n",
      "Epoch 56/100\n",
      "3/3 [==============================] - 0s 31ms/step - loss: 0.4591 - accuracy: 0.7619 - val_loss: 0.6251 - val_accuracy: 0.5455\n",
      "Epoch 57/100\n",
      "3/3 [==============================] - 0s 31ms/step - loss: 0.4233 - accuracy: 0.7857 - val_loss: 0.6235 - val_accuracy: 0.5909\n",
      "Epoch 58/100\n",
      "3/3 [==============================] - 0s 29ms/step - loss: 0.4362 - accuracy: 0.8452 - val_loss: 0.6208 - val_accuracy: 0.5909\n",
      "Epoch 59/100\n",
      "3/3 [==============================] - 0s 29ms/step - loss: 0.4760 - accuracy: 0.7738 - val_loss: 0.6376 - val_accuracy: 0.5909\n",
      "Epoch 60/100\n",
      "3/3 [==============================] - 0s 33ms/step - loss: 0.4138 - accuracy: 0.8095 - val_loss: 0.6508 - val_accuracy: 0.5909\n",
      "Epoch 61/100\n",
      "3/3 [==============================] - 0s 29ms/step - loss: 0.4751 - accuracy: 0.7619 - val_loss: 0.6556 - val_accuracy: 0.5909\n",
      "Epoch 62/100\n",
      "3/3 [==============================] - 0s 32ms/step - loss: 0.4495 - accuracy: 0.7738 - val_loss: 0.6582 - val_accuracy: 0.6818\n",
      "Epoch 63/100\n",
      "3/3 [==============================] - 0s 31ms/step - loss: 0.4835 - accuracy: 0.7619 - val_loss: 0.6623 - val_accuracy: 0.6818\n",
      "Epoch 64/100\n",
      "3/3 [==============================] - 0s 44ms/step - loss: 0.4058 - accuracy: 0.8810 - val_loss: 0.6676 - val_accuracy: 0.6364\n",
      "Epoch 65/100\n",
      "3/3 [==============================] - 0s 44ms/step - loss: 0.4057 - accuracy: 0.8095 - val_loss: 0.6619 - val_accuracy: 0.6364\n",
      "Epoch 66/100\n",
      "3/3 [==============================] - 0s 47ms/step - loss: 0.5694 - accuracy: 0.8095 - val_loss: 0.6889 - val_accuracy: 0.6364\n",
      "Epoch 67/100\n",
      "3/3 [==============================] - 0s 30ms/step - loss: 0.4149 - accuracy: 0.7857 - val_loss: 0.7075 - val_accuracy: 0.6364\n",
      "Epoch 68/100\n",
      "3/3 [==============================] - 0s 36ms/step - loss: 0.3676 - accuracy: 0.8452 - val_loss: 0.7218 - val_accuracy: 0.5909\n",
      "Epoch 69/100\n",
      "3/3 [==============================] - 0s 30ms/step - loss: 0.4941 - accuracy: 0.7738 - val_loss: 0.7142 - val_accuracy: 0.6364\n",
      "Epoch 70/100\n",
      "3/3 [==============================] - 0s 32ms/step - loss: 0.4712 - accuracy: 0.7857 - val_loss: 0.7198 - val_accuracy: 0.5909\n",
      "Epoch 71/100\n",
      "3/3 [==============================] - 0s 32ms/step - loss: 0.3424 - accuracy: 0.8690 - val_loss: 0.7213 - val_accuracy: 0.5455\n",
      "Epoch 72/100\n",
      "3/3 [==============================] - 0s 38ms/step - loss: 0.3756 - accuracy: 0.8095 - val_loss: 0.7295 - val_accuracy: 0.6364\n",
      "Epoch 73/100\n",
      "3/3 [==============================] - 0s 33ms/step - loss: 0.4100 - accuracy: 0.8095 - val_loss: 0.7422 - val_accuracy: 0.6364\n",
      "Epoch 74/100\n",
      "3/3 [==============================] - 0s 32ms/step - loss: 0.3422 - accuracy: 0.8333 - val_loss: 0.7530 - val_accuracy: 0.6364\n",
      "Epoch 75/100\n",
      "3/3 [==============================] - 0s 36ms/step - loss: 0.3843 - accuracy: 0.8452 - val_loss: 0.7758 - val_accuracy: 0.6364\n",
      "Epoch 76/100\n",
      "3/3 [==============================] - 0s 30ms/step - loss: 0.3612 - accuracy: 0.8690 - val_loss: 0.7793 - val_accuracy: 0.6364\n",
      "Epoch 77/100\n",
      "3/3 [==============================] - 0s 35ms/step - loss: 0.2883 - accuracy: 0.9048 - val_loss: 0.7858 - val_accuracy: 0.6364\n",
      "Epoch 78/100\n",
      "3/3 [==============================] - 0s 42ms/step - loss: 0.2789 - accuracy: 0.8929 - val_loss: 0.7851 - val_accuracy: 0.5909\n",
      "Epoch 79/100\n",
      "3/3 [==============================] - 0s 35ms/step - loss: 0.3408 - accuracy: 0.8810 - val_loss: 0.7572 - val_accuracy: 0.5909\n",
      "Epoch 80/100\n",
      "3/3 [==============================] - 0s 32ms/step - loss: 0.3364 - accuracy: 0.8690 - val_loss: 0.7098 - val_accuracy: 0.5455\n",
      "Epoch 81/100\n",
      "3/3 [==============================] - 0s 36ms/step - loss: 0.2807 - accuracy: 0.8571 - val_loss: 0.6732 - val_accuracy: 0.5455\n",
      "Epoch 82/100\n",
      "3/3 [==============================] - 0s 29ms/step - loss: 0.3749 - accuracy: 0.7976 - val_loss: 0.6408 - val_accuracy: 0.5455\n",
      "Epoch 83/100\n",
      "3/3 [==============================] - 0s 31ms/step - loss: 0.2884 - accuracy: 0.8929 - val_loss: 0.6453 - val_accuracy: 0.5455\n",
      "Epoch 84/100\n",
      "3/3 [==============================] - 0s 30ms/step - loss: 0.3521 - accuracy: 0.8452 - val_loss: 0.6876 - val_accuracy: 0.5455\n",
      "Epoch 85/100\n",
      "3/3 [==============================] - 0s 32ms/step - loss: 0.3061 - accuracy: 0.8452 - val_loss: 0.6852 - val_accuracy: 0.6364\n",
      "Epoch 86/100\n",
      "3/3 [==============================] - 0s 35ms/step - loss: 0.3624 - accuracy: 0.8452 - val_loss: 0.6680 - val_accuracy: 0.5909\n",
      "Epoch 87/100\n",
      "3/3 [==============================] - 0s 31ms/step - loss: 0.3369 - accuracy: 0.8214 - val_loss: 0.6587 - val_accuracy: 0.5909\n",
      "Epoch 88/100\n",
      "3/3 [==============================] - 0s 35ms/step - loss: 0.3160 - accuracy: 0.8571 - val_loss: 0.6517 - val_accuracy: 0.5909\n",
      "Epoch 89/100\n",
      "3/3 [==============================] - 0s 42ms/step - loss: 0.3695 - accuracy: 0.7857 - val_loss: 0.6378 - val_accuracy: 0.5909\n",
      "Epoch 90/100\n",
      "3/3 [==============================] - 0s 50ms/step - loss: 0.3418 - accuracy: 0.8452 - val_loss: 0.6326 - val_accuracy: 0.6364\n",
      "Epoch 91/100\n",
      "3/3 [==============================] - 0s 36ms/step - loss: 0.3374 - accuracy: 0.8571 - val_loss: 0.6366 - val_accuracy: 0.6818\n",
      "Epoch 92/100\n",
      "3/3 [==============================] - 0s 40ms/step - loss: 0.2648 - accuracy: 0.8810 - val_loss: 0.6438 - val_accuracy: 0.6364\n",
      "Epoch 93/100\n",
      "3/3 [==============================] - 0s 46ms/step - loss: 0.3134 - accuracy: 0.8810 - val_loss: 0.6574 - val_accuracy: 0.6364\n",
      "Epoch 94/100\n",
      "3/3 [==============================] - 0s 31ms/step - loss: 0.2967 - accuracy: 0.8810 - val_loss: 0.6693 - val_accuracy: 0.6364\n",
      "Epoch 95/100\n",
      "3/3 [==============================] - 0s 31ms/step - loss: 0.3059 - accuracy: 0.8810 - val_loss: 0.6652 - val_accuracy: 0.6364\n",
      "Epoch 96/100\n",
      "3/3 [==============================] - 0s 29ms/step - loss: 0.2940 - accuracy: 0.8333 - val_loss: 0.6562 - val_accuracy: 0.6364\n",
      "Epoch 97/100\n",
      "3/3 [==============================] - 0s 28ms/step - loss: 0.3486 - accuracy: 0.8810 - val_loss: 0.6381 - val_accuracy: 0.6818\n",
      "Epoch 98/100\n",
      "3/3 [==============================] - 0s 31ms/step - loss: 0.4163 - accuracy: 0.8095 - val_loss: 0.6092 - val_accuracy: 0.6364\n",
      "Epoch 99/100\n",
      "3/3 [==============================] - 0s 30ms/step - loss: 0.2665 - accuracy: 0.8810 - val_loss: 0.6033 - val_accuracy: 0.6818\n",
      "Epoch 100/100\n",
      "3/3 [==============================] - 0s 32ms/step - loss: 0.3550 - accuracy: 0.8452 - val_loss: 0.6191 - val_accuracy: 0.6818\n",
      "Test Accuracy: 68.18%\n"
     ]
    }
   ],
   "source": [
    "from keras.models import Sequential\n",
    "from keras.layers import Dense, Dropout, BatchNormalization\n",
    "from keras.optimizers import Adam\n",
    "from sklearn.preprocessing import LabelEncoder\n",
    "import numpy as np\n",
    "\n",
    "input_dim = X_train.shape[1]\n",
    "y_train_encoded = LabelEncoder().fit_transform(y_train)\n",
    "y_test_encoded = LabelEncoder().fit_transform(y_test)\n",
    "\n",
    "# Convert labels to float32\n",
    "X_train = np.array(X_train, dtype=np.float32)\n",
    "X_test = np.array(X_test, dtype=np.float32)\n",
    "y_train_encoded = np.array(y_train_encoded, dtype=np.float32)\n",
    "y_test_encoded = np.array(y_test_encoded, dtype=np.float32)\n",
    "\n",
    "# Define enhanced MLP model\n",
    "mlp_model = Sequential()\n",
    "mlp_model.add(Dense(256, input_dim=input_dim, activation='relu'))\n",
    "mlp_model.add(BatchNormalization())\n",
    "mlp_model.add(Dropout(0.5))\n",
    "mlp_model.add(Dense(128, activation='relu'))\n",
    "mlp_model.add(BatchNormalization())\n",
    "mlp_model.add(Dropout(0.5))\n",
    "mlp_model.add(Dense(64, activation='relu'))\n",
    "mlp_model.add(Dense(1, activation='sigmoid'))\n",
    "\n",
    "# Compile the model\n",
    "optimizer = Adam(learning_rate=0.001)\n",
    "mlp_model.compile(loss='binary_crossentropy', optimizer=optimizer, metrics=['accuracy'])\n",
    "\n",
    "# Train the model\n",
    "mlp_model.fit(X_train, y_train_encoded, epochs=100, batch_size=32, validation_data=(X_test, y_test_encoded))\n",
    "\n",
    "# Evaluate the model\n",
    "accuracy = mlp_model.evaluate(X_test, y_test_encoded, verbose=0)[1]\n",
    "print(f\"Test Accuracy: {accuracy * 100:.2f}%\")"
   ]
  },
  {
   "cell_type": "code",
   "execution_count": null,
   "metadata": {},
   "outputs": [],
   "source": []
  }
 ],
 "metadata": {
  "kernelspec": {
   "display_name": "Python 3",
   "language": "python",
   "name": "python3"
  },
  "language_info": {
   "codemirror_mode": {
    "name": "ipython",
    "version": 3
   },
   "file_extension": ".py",
   "mimetype": "text/x-python",
   "name": "python",
   "nbconvert_exporter": "python",
   "pygments_lexer": "ipython3",
   "version": "3.10.8"
  }
 },
 "nbformat": 4,
 "nbformat_minor": 2
}
